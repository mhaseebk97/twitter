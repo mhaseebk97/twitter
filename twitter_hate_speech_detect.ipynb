{
  "nbformat": 4,
  "nbformat_minor": 0,
  "metadata": {
    "colab": {
      "provenance": [],
      "include_colab_link": true
    },
    "kernelspec": {
      "name": "python3",
      "display_name": "Python 3 (ipykernel)",
      "language": "python"
    },
    "language_info": {
      "name": "python"
    }
  },
  "cells": [
    {
      "cell_type": "markdown",
      "metadata": {
        "id": "view-in-github",
        "colab_type": "text"
      },
      "source": [
        "<a href=\"https://colab.research.google.com/github/mhaseebk97/twitter/blob/main/twitter_hate_speech_detect.ipynb\" target=\"_parent\"><img src=\"https://colab.research.google.com/assets/colab-badge.svg\" alt=\"Open In Colab\"/></a>"
      ]
    },
    {
      "cell_type": "code",
      "source": [
        "!pip install --upgrade --force-reinstall numpy gensim"
      ],
      "metadata": {
        "colab": {
          "base_uri": "https://localhost:8080/",
          "height": 894
        },
        "id": "IkOvz-2fIAM0",
        "outputId": "03f48b6c-afb8-42ee-91a9-7177596ac9c7"
      },
      "execution_count": 4,
      "outputs": [
        {
          "output_type": "stream",
          "name": "stdout",
          "text": [
            "Collecting numpy\n",
            "  Downloading numpy-2.2.6-cp311-cp311-manylinux_2_17_x86_64.manylinux2014_x86_64.whl.metadata (62 kB)\n",
            "\u001b[?25l     \u001b[90m━━━━━━━━━━━━━━━━━━━━━━━━━━━━━━━━━━━━━━━━\u001b[0m \u001b[32m0.0/62.0 kB\u001b[0m \u001b[31m?\u001b[0m eta \u001b[36m-:--:--\u001b[0m\r\u001b[2K     \u001b[90m━━━━━━━━━━━━━━━━━━━━━━━━━━━━━━━━━━━━━━━━\u001b[0m \u001b[32m62.0/62.0 kB\u001b[0m \u001b[31m1.6 MB/s\u001b[0m eta \u001b[36m0:00:00\u001b[0m\n",
            "\u001b[?25hCollecting gensim\n",
            "  Using cached gensim-4.3.3-cp311-cp311-manylinux_2_17_x86_64.manylinux2014_x86_64.whl.metadata (8.1 kB)\n",
            "Collecting numpy\n",
            "  Using cached numpy-1.26.4-cp311-cp311-manylinux_2_17_x86_64.manylinux2014_x86_64.whl.metadata (61 kB)\n",
            "Collecting scipy<1.14.0,>=1.7.0 (from gensim)\n",
            "  Using cached scipy-1.13.1-cp311-cp311-manylinux_2_17_x86_64.manylinux2014_x86_64.whl.metadata (60 kB)\n",
            "Collecting smart-open>=1.8.1 (from gensim)\n",
            "  Downloading smart_open-7.1.0-py3-none-any.whl.metadata (24 kB)\n",
            "Collecting wrapt (from smart-open>=1.8.1->gensim)\n",
            "  Downloading wrapt-1.17.2-cp311-cp311-manylinux_2_5_x86_64.manylinux1_x86_64.manylinux_2_17_x86_64.manylinux2014_x86_64.whl.metadata (6.4 kB)\n",
            "Using cached gensim-4.3.3-cp311-cp311-manylinux_2_17_x86_64.manylinux2014_x86_64.whl (26.7 MB)\n",
            "Using cached numpy-1.26.4-cp311-cp311-manylinux_2_17_x86_64.manylinux2014_x86_64.whl (18.3 MB)\n",
            "Using cached scipy-1.13.1-cp311-cp311-manylinux_2_17_x86_64.manylinux2014_x86_64.whl (38.6 MB)\n",
            "Downloading smart_open-7.1.0-py3-none-any.whl (61 kB)\n",
            "\u001b[2K   \u001b[90m━━━━━━━━━━━━━━━━━━━━━━━━━━━━━━━━━━━━━━━━\u001b[0m \u001b[32m61.7/61.7 kB\u001b[0m \u001b[31m962.8 kB/s\u001b[0m eta \u001b[36m0:00:00\u001b[0m\n",
            "\u001b[?25hDownloading wrapt-1.17.2-cp311-cp311-manylinux_2_5_x86_64.manylinux1_x86_64.manylinux_2_17_x86_64.manylinux2014_x86_64.whl (83 kB)\n",
            "\u001b[2K   \u001b[90m━━━━━━━━━━━━━━━━━━━━━━━━━━━━━━━━━━━━━━━━\u001b[0m \u001b[32m83.2/83.2 kB\u001b[0m \u001b[31m6.6 MB/s\u001b[0m eta \u001b[36m0:00:00\u001b[0m\n",
            "\u001b[?25hInstalling collected packages: wrapt, numpy, smart-open, scipy, gensim\n",
            "  Attempting uninstall: wrapt\n",
            "    Found existing installation: wrapt 1.17.2\n",
            "    Uninstalling wrapt-1.17.2:\n",
            "      Successfully uninstalled wrapt-1.17.2\n",
            "  Attempting uninstall: numpy\n",
            "    Found existing installation: numpy 1.26.4\n",
            "    Uninstalling numpy-1.26.4:\n",
            "      Successfully uninstalled numpy-1.26.4\n",
            "  Attempting uninstall: smart-open\n",
            "    Found existing installation: smart-open 7.1.0\n",
            "    Uninstalling smart-open-7.1.0:\n",
            "      Successfully uninstalled smart-open-7.1.0\n",
            "  Attempting uninstall: scipy\n",
            "    Found existing installation: scipy 1.13.1\n",
            "    Uninstalling scipy-1.13.1:\n",
            "      Successfully uninstalled scipy-1.13.1\n",
            "  Attempting uninstall: gensim\n",
            "    Found existing installation: gensim 4.3.3\n",
            "    Uninstalling gensim-4.3.3:\n",
            "      Successfully uninstalled gensim-4.3.3\n",
            "\u001b[31mERROR: pip's dependency resolver does not currently take into account all the packages that are installed. This behaviour is the source of the following dependency conflicts.\n",
            "tsfresh 0.21.0 requires scipy>=1.14.0; python_version >= \"3.10\", but you have scipy 1.13.1 which is incompatible.\n",
            "thinc 8.3.6 requires numpy<3.0.0,>=2.0.0, but you have numpy 1.26.4 which is incompatible.\u001b[0m\u001b[31m\n",
            "\u001b[0mSuccessfully installed gensim-4.3.3 numpy-1.26.4 scipy-1.13.1 smart-open-7.1.0 wrapt-1.17.2\n"
          ]
        },
        {
          "output_type": "display_data",
          "data": {
            "application/vnd.colab-display-data+json": {
              "pip_warning": {
                "packages": [
                  "smart_open",
                  "wrapt"
                ]
              },
              "id": "ce80814d504e436d8ac8b9be5dbad207"
            }
          },
          "metadata": {}
        }
      ]
    },
    {
      "cell_type": "code",
      "source": [
        "import pandas as pd\n",
        "import google.colab.files as files\n",
        "import nltk\n",
        "from nltk.tokenize import word_tokenize\n",
        "from nltk.probability import FreqDist\n",
        "from nltk.corpus import stopwords\n",
        "from nltk.util import ngrams\n",
        "from nltk.collocations import BigramAssocMeasures, BigramCollocationFinder\n",
        "from matplotlib import pyplot as plt\n",
        "from scipy.stats import chi2_contingency\n",
        "from sklearn.base import BaseEstimator, TransformerMixin\n",
        "from sklearn.model_selection import train_test_split\n",
        "from sklearn.feature_extraction.text import TfidfVectorizer, CountVectorizer\n",
        "from sklearn.naive_bayes import MultinomialNB, GaussianNB\n",
        "from sklearn.linear_model import LogisticRegression\n",
        "from sklearn.metrics import classification_report, accuracy_score\n",
        "from sklearn.pipeline import Pipeline\n",
        "import string\n",
        "import warnings\n",
        "import re\n",
        "from gensim.models import Word2Vec\n",
        "import numpy as np"
      ],
      "metadata": {
        "id": "rvON0aTcSV8t",
        "ExecuteTime": {
          "end_time": "2025-06-02T00:48:15.603468Z",
          "start_time": "2025-06-02T00:48:15.215661Z"
        }
      },
      "outputs": [],
      "execution_count": 1
    },
    {
      "cell_type": "code",
      "source": [
        "nltk.download('punkt')\n",
        "nltk.download('punkt_tab')\n",
        "nltk.download('stopwords')\n",
        "warnings.filterwarnings('ignore')"
      ],
      "metadata": {
        "colab": {
          "base_uri": "https://localhost:8080/"
        },
        "id": "PB1S30kjN273",
        "outputId": "1456a382-0ce1-4bcc-d309-f592b3178d52"
      },
      "execution_count": 2,
      "outputs": [
        {
          "output_type": "stream",
          "name": "stderr",
          "text": [
            "[nltk_data] Downloading package punkt to /root/nltk_data...\n",
            "[nltk_data]   Unzipping tokenizers/punkt.zip.\n",
            "[nltk_data] Downloading package punkt_tab to /root/nltk_data...\n",
            "[nltk_data]   Unzipping tokenizers/punkt_tab.zip.\n",
            "[nltk_data] Downloading package stopwords to /root/nltk_data...\n",
            "[nltk_data]   Unzipping corpora/stopwords.zip.\n"
          ]
        }
      ]
    },
    {
      "cell_type": "code",
      "source": [
        "def data_review(df):\n",
        "  print('Review the samples of the data.')\n",
        "  print(df.sample(7))\n",
        "  print('*'*100)\n",
        "  print()\n",
        "  print(f'Shape of the data: {df.shape}')\n",
        "  print('*'*100)\n",
        "  print()\n",
        "  for column in df.columns:\n",
        "    if (column == 'id') or (column == 'text '):\n",
        "      continue\n",
        "    print(f'Unique values in {column}: {df[column].unique()}')\n",
        "  print('*'*100)\n",
        "  print()\n",
        "  count_0_hs = len(data[data['hs'] == 0])\n",
        "  count_1_hs = len(data[data['hs'] == 1])\n",
        "  count_0_st = len(data[data['stereotype'] == 0])\n",
        "  count_1_st = len(data[data['stereotype'] == 1])\n",
        "  print('*'*100)\n",
        "  print()\n",
        "  print(f\"Count of 0's in the hs: {count_0_hs}\")\n",
        "  print(f\"Count of 1's in the hs: {count_1_hs}\")\n",
        "  print('*'*100)\n",
        "  print()\n",
        "  print(f\"Count of 0's in the stereotype: {count_0_st}\")\n",
        "  print(f\"Count of 1's in the stereotype: {count_1_st}\")\n",
        "  print('*'*100)\n",
        "  print()\n",
        "  print(f'Count of duplicated values: {df.duplicated().sum()}')\n",
        "  print('*'*100)\n",
        "  print()\n",
        "  print(f'Count of null values:')\n",
        "  print(df.isnull().sum())\n",
        "  print('*'*100)\n",
        "  print()\n",
        "  print('Reviw the data types of the columns.')\n",
        "  print(df.info())\n",
        "\n",
        "  return count_0_hs, count_1_hs, count_0_st, count_1_st"
      ],
      "metadata": {
        "id": "OEmJjSh_bAKO"
      },
      "execution_count": 3,
      "outputs": []
    },
    {
      "cell_type": "code",
      "source": [
        "class DataFrameSelector(BaseEstimator, TransformerMixin):\n",
        "    def __init__(self, key):\n",
        "        self.key = key\n",
        "\n",
        "    def fit(self, X, y=None):\n",
        "        return self\n",
        "\n",
        "    def transform(self, X):\n",
        "        return X[self.key]"
      ],
      "metadata": {
        "id": "Kxq7F0vgwaZr"
      },
      "execution_count": 4,
      "outputs": []
    },
    {
      "cell_type": "code",
      "source": [
        "def fit_and_evaluate_model(pipeline, X_train, y_train, X_test, y_test, model_name):\n",
        "    # Fit the model\n",
        "    pipeline.fit(X_train, y_train)\n",
        "\n",
        "    # Make predictions\n",
        "    y_pred = pipeline.predict(X_test)\n",
        "\n",
        "    # Print the classification report\n",
        "    print(f\"{model_name} Classification Report:\")\n",
        "    print(classification_report(y_test, y_pred, target_names=['No', 'Yes']))\n",
        "\n",
        "    # Calculate and print the accuracy\n",
        "    accuracy = accuracy_score(y_test, y_pred)\n",
        "    print(f\"{model_name} Overall Accuracy: {accuracy:.2f}\\n\")"
      ],
      "metadata": {
        "id": "QcrXMQGJvvJp"
      },
      "execution_count": 5,
      "outputs": []
    },
    {
      "cell_type": "code",
      "source": [
        "class EmojiRemover(BaseEstimator, TransformerMixin):\n",
        "    def fit(self, X, y=None):\n",
        "        return self\n",
        "\n",
        "    def transform(self, X):\n",
        "        return X.apply(remove_emoji)"
      ],
      "metadata": {
        "id": "6vLfqbLwCRgy"
      },
      "execution_count": 6,
      "outputs": []
    },
    {
      "cell_type": "code",
      "source": [
        "def remove_emoji(text):\n",
        "    emoji_pattern = re.compile(\n",
        "        \"[\\U0001F600-\\U0001F64F\"  # Emoticons\n",
        "        \"\\U0001F300-\\U0001F5FF\"   # Symbols & Pictographs\n",
        "        \"\\U0001F680-\\U0001F6FF\"   # Transport & Map Symbols\n",
        "        \"\\U0001F1E0-\\U0001F1FF\"   # Flags\n",
        "        \"\\U0001F700-\\U0001F77F\"   # Alchemical Symbols\n",
        "        \"\\U0001F780-\\U0001F7FF\"   # Geometric Shapes Extended\n",
        "        \"\\U0001F800-\\U0001F8FF\"   # Supplemental Arrows-C\n",
        "        \"\\U0001F900-\\U0001F9FF\"   # Supplemental Symbols and Pictographs\n",
        "        \"\\U0001FA00-\\U0001FA6F\"   # Chess Symbols\n",
        "        \"\\U0001FA70-\\U0001FAFF\"   # Symbols and Pictographs Extended-A\n",
        "        \"\\U00002702-\\U000027B0\"   # Dingbats\n",
        "        \"\\U000024C2-\\U0001F251\"   # Enclosed Characters\n",
        "        \"]+\", flags=re.UNICODE\n",
        "    )\n",
        "    return emoji_pattern.sub(r'', text)\n"
      ],
      "metadata": {
        "id": "JN-J5esJBs8i"
      },
      "execution_count": 7,
      "outputs": []
    },
    {
      "cell_type": "code",
      "source": [
        "# Define Text Preprocessor\n",
        "class TextPreprocessor(BaseEstimator, TransformerMixin):\n",
        "    def __init__(self, stop_words):\n",
        "        self.stop_words = stop_words\n",
        "\n",
        "    def fit(self, X, y=None):\n",
        "        return self\n",
        "\n",
        "    def transform(self, X):\n",
        "        # Preprocess each document: lowercase, remove stopwords, keep only words\n",
        "        return X.apply(lambda text: ' '.join(\n",
        "            word for word in re.findall(r'\\b[a-zA-Z]+\\b', text.lower())\n",
        "            if word not in self.stop_words\n",
        "        ))\n",
        "\n",
        "# Define Word2Vec Transformer\n",
        "class Word2VecTransformer(BaseEstimator, TransformerMixin):\n",
        "    def __init__(self, vector_size=100, window=5, min_count=1):\n",
        "        self.vector_size = vector_size\n",
        "        self.window = window\n",
        "        self.min_count = min_count\n",
        "        self.w2v_model = None\n",
        "\n",
        "    def fit(self, X, y=None):\n",
        "        # Train Word2Vec model on the corpus\n",
        "        sentences = [text.split() for text in X]  # Tokenize each document\n",
        "        self.w2v_model = Word2Vec(sentences, vector_size=self.vector_size,\n",
        "                                  window=self.window, min_count=self.min_count)\n",
        "        return self\n",
        "\n",
        "    def transform(self, X):\n",
        "        # Transform each document to the average of its word vectors\n",
        "        def document_vector(doc):\n",
        "            words = doc.split()\n",
        "            # Filter out words not in the vocabulary\n",
        "            words = [word for word in words if word in self.w2v_model.wv]\n",
        "            if len(words) == 0:\n",
        "                return np.zeros(self.vector_size)  # Handle empty docs\n",
        "            return np.mean(self.w2v_model.wv[words], axis=0)\n",
        "\n",
        "        return np.vstack([document_vector(doc) for doc in X])"
      ],
      "metadata": {
        "id": "b4BIHOtBJs_H"
      },
      "execution_count": 8,
      "outputs": []
    },
    {
      "cell_type": "code",
      "source": [
        "filename = files.upload()"
      ],
      "metadata": {
        "colab": {
          "base_uri": "https://localhost:8080/",
          "height": 71
        },
        "id": "W51HY-XWaF1N",
        "outputId": "995e6335-7dcc-4ee6-a7ab-37fe4a08156d"
      },
      "execution_count": 28,
      "outputs": [
        {
          "output_type": "display_data",
          "data": {
            "text/plain": [
              "<IPython.core.display.HTML object>"
            ],
            "text/html": [
              "\n",
              "     <input type=\"file\" id=\"files-0143b848-7150-42f7-8b74-1f14bf84638b\" name=\"files[]\" multiple disabled\n",
              "        style=\"border:none\" />\n",
              "     <output id=\"result-0143b848-7150-42f7-8b74-1f14bf84638b\">\n",
              "      Upload widget is only available when the cell has been executed in the\n",
              "      current browser session. Please rerun this cell to enable.\n",
              "      </output>\n",
              "      <script>// Copyright 2017 Google LLC\n",
              "//\n",
              "// Licensed under the Apache License, Version 2.0 (the \"License\");\n",
              "// you may not use this file except in compliance with the License.\n",
              "// You may obtain a copy of the License at\n",
              "//\n",
              "//      http://www.apache.org/licenses/LICENSE-2.0\n",
              "//\n",
              "// Unless required by applicable law or agreed to in writing, software\n",
              "// distributed under the License is distributed on an \"AS IS\" BASIS,\n",
              "// WITHOUT WARRANTIES OR CONDITIONS OF ANY KIND, either express or implied.\n",
              "// See the License for the specific language governing permissions and\n",
              "// limitations under the License.\n",
              "\n",
              "/**\n",
              " * @fileoverview Helpers for google.colab Python module.\n",
              " */\n",
              "(function(scope) {\n",
              "function span(text, styleAttributes = {}) {\n",
              "  const element = document.createElement('span');\n",
              "  element.textContent = text;\n",
              "  for (const key of Object.keys(styleAttributes)) {\n",
              "    element.style[key] = styleAttributes[key];\n",
              "  }\n",
              "  return element;\n",
              "}\n",
              "\n",
              "// Max number of bytes which will be uploaded at a time.\n",
              "const MAX_PAYLOAD_SIZE = 100 * 1024;\n",
              "\n",
              "function _uploadFiles(inputId, outputId) {\n",
              "  const steps = uploadFilesStep(inputId, outputId);\n",
              "  const outputElement = document.getElementById(outputId);\n",
              "  // Cache steps on the outputElement to make it available for the next call\n",
              "  // to uploadFilesContinue from Python.\n",
              "  outputElement.steps = steps;\n",
              "\n",
              "  return _uploadFilesContinue(outputId);\n",
              "}\n",
              "\n",
              "// This is roughly an async generator (not supported in the browser yet),\n",
              "// where there are multiple asynchronous steps and the Python side is going\n",
              "// to poll for completion of each step.\n",
              "// This uses a Promise to block the python side on completion of each step,\n",
              "// then passes the result of the previous step as the input to the next step.\n",
              "function _uploadFilesContinue(outputId) {\n",
              "  const outputElement = document.getElementById(outputId);\n",
              "  const steps = outputElement.steps;\n",
              "\n",
              "  const next = steps.next(outputElement.lastPromiseValue);\n",
              "  return Promise.resolve(next.value.promise).then((value) => {\n",
              "    // Cache the last promise value to make it available to the next\n",
              "    // step of the generator.\n",
              "    outputElement.lastPromiseValue = value;\n",
              "    return next.value.response;\n",
              "  });\n",
              "}\n",
              "\n",
              "/**\n",
              " * Generator function which is called between each async step of the upload\n",
              " * process.\n",
              " * @param {string} inputId Element ID of the input file picker element.\n",
              " * @param {string} outputId Element ID of the output display.\n",
              " * @return {!Iterable<!Object>} Iterable of next steps.\n",
              " */\n",
              "function* uploadFilesStep(inputId, outputId) {\n",
              "  const inputElement = document.getElementById(inputId);\n",
              "  inputElement.disabled = false;\n",
              "\n",
              "  const outputElement = document.getElementById(outputId);\n",
              "  outputElement.innerHTML = '';\n",
              "\n",
              "  const pickedPromise = new Promise((resolve) => {\n",
              "    inputElement.addEventListener('change', (e) => {\n",
              "      resolve(e.target.files);\n",
              "    });\n",
              "  });\n",
              "\n",
              "  const cancel = document.createElement('button');\n",
              "  inputElement.parentElement.appendChild(cancel);\n",
              "  cancel.textContent = 'Cancel upload';\n",
              "  const cancelPromise = new Promise((resolve) => {\n",
              "    cancel.onclick = () => {\n",
              "      resolve(null);\n",
              "    };\n",
              "  });\n",
              "\n",
              "  // Wait for the user to pick the files.\n",
              "  const files = yield {\n",
              "    promise: Promise.race([pickedPromise, cancelPromise]),\n",
              "    response: {\n",
              "      action: 'starting',\n",
              "    }\n",
              "  };\n",
              "\n",
              "  cancel.remove();\n",
              "\n",
              "  // Disable the input element since further picks are not allowed.\n",
              "  inputElement.disabled = true;\n",
              "\n",
              "  if (!files) {\n",
              "    return {\n",
              "      response: {\n",
              "        action: 'complete',\n",
              "      }\n",
              "    };\n",
              "  }\n",
              "\n",
              "  for (const file of files) {\n",
              "    const li = document.createElement('li');\n",
              "    li.append(span(file.name, {fontWeight: 'bold'}));\n",
              "    li.append(span(\n",
              "        `(${file.type || 'n/a'}) - ${file.size} bytes, ` +\n",
              "        `last modified: ${\n",
              "            file.lastModifiedDate ? file.lastModifiedDate.toLocaleDateString() :\n",
              "                                    'n/a'} - `));\n",
              "    const percent = span('0% done');\n",
              "    li.appendChild(percent);\n",
              "\n",
              "    outputElement.appendChild(li);\n",
              "\n",
              "    const fileDataPromise = new Promise((resolve) => {\n",
              "      const reader = new FileReader();\n",
              "      reader.onload = (e) => {\n",
              "        resolve(e.target.result);\n",
              "      };\n",
              "      reader.readAsArrayBuffer(file);\n",
              "    });\n",
              "    // Wait for the data to be ready.\n",
              "    let fileData = yield {\n",
              "      promise: fileDataPromise,\n",
              "      response: {\n",
              "        action: 'continue',\n",
              "      }\n",
              "    };\n",
              "\n",
              "    // Use a chunked sending to avoid message size limits. See b/62115660.\n",
              "    let position = 0;\n",
              "    do {\n",
              "      const length = Math.min(fileData.byteLength - position, MAX_PAYLOAD_SIZE);\n",
              "      const chunk = new Uint8Array(fileData, position, length);\n",
              "      position += length;\n",
              "\n",
              "      const base64 = btoa(String.fromCharCode.apply(null, chunk));\n",
              "      yield {\n",
              "        response: {\n",
              "          action: 'append',\n",
              "          file: file.name,\n",
              "          data: base64,\n",
              "        },\n",
              "      };\n",
              "\n",
              "      let percentDone = fileData.byteLength === 0 ?\n",
              "          100 :\n",
              "          Math.round((position / fileData.byteLength) * 100);\n",
              "      percent.textContent = `${percentDone}% done`;\n",
              "\n",
              "    } while (position < fileData.byteLength);\n",
              "  }\n",
              "\n",
              "  // All done.\n",
              "  yield {\n",
              "    response: {\n",
              "      action: 'complete',\n",
              "    }\n",
              "  };\n",
              "}\n",
              "\n",
              "scope.google = scope.google || {};\n",
              "scope.google.colab = scope.google.colab || {};\n",
              "scope.google.colab._files = {\n",
              "  _uploadFiles,\n",
              "  _uploadFilesContinue,\n",
              "};\n",
              "})(self);\n",
              "</script> "
            ]
          },
          "metadata": {}
        },
        {
          "output_type": "stream",
          "name": "stdout",
          "text": [
            "Saving haspeede2_dev_taskAB.tsv to haspeede2_dev_taskAB (2).tsv\n"
          ]
        }
      ]
    },
    {
      "cell_type": "markdown",
      "source": [
        "Data"
      ],
      "metadata": {
        "id": "2nAcwja0QvPq"
      }
    },
    {
      "cell_type": "code",
      "source": [
        "data = pd.read_csv('/content/haspeede2_dev_taskAB.tsv', sep='\\t')\n",
        "count_0_hs, count_1_hs, count_0_st, count_1_st = data_review(data)"
      ],
      "metadata": {
        "colab": {
          "base_uri": "https://localhost:8080/"
        },
        "id": "Rdyj7fhQbcIj",
        "outputId": "99f2dfb0-4121-4056-fcf4-26ebdaed06e3"
      },
      "execution_count": 29,
      "outputs": [
        {
          "output_type": "stream",
          "name": "stdout",
          "text": [
            "Review the samples of the data.\n",
            "        id                                              text   hs  stereotype\n",
            "3719  1756  @user @user Ci lavorano solo islamici e comuni...   1           1\n",
            "6502  8192  Due giovani turiste danese e norvegese #decapi...   1           1\n",
            "882    643  #Roma, far west a #Corcolle: poliziotti aggred...   0           1\n",
            "150   1493  @user scusa ma dovevo tacere sti stranieri che...   0           0\n",
            "4291  9696  @user @user @user @user @user @user @user @use...   1           1\n",
            "769    437  Roma, la cassiera è complice: nomadi fanno spe...   0           1\n",
            "296   2606  Che bello sentire Alberto @user a #Roma parlar...   0           0\n",
            "****************************************************************************************************\n",
            "\n",
            "Shape of the data: (6837, 4)\n",
            "****************************************************************************************************\n",
            "\n",
            "Unique values in hs: [0 1]\n",
            "Unique values in stereotype: [0 1]\n",
            "****************************************************************************************************\n",
            "\n",
            "****************************************************************************************************\n",
            "\n",
            "Count of 0's in the hs: 4071\n",
            "Count of 1's in the hs: 2766\n",
            "****************************************************************************************************\n",
            "\n",
            "Count of 0's in the stereotype: 3796\n",
            "Count of 1's in the stereotype: 3041\n",
            "****************************************************************************************************\n",
            "\n",
            "Count of duplicated values: 0\n",
            "****************************************************************************************************\n",
            "\n",
            "Count of null values:\n",
            "id            0\n",
            "text          0\n",
            "hs            0\n",
            "stereotype    0\n",
            "dtype: int64\n",
            "****************************************************************************************************\n",
            "\n",
            "Reviw the data types of the columns.\n",
            "<class 'pandas.core.frame.DataFrame'>\n",
            "RangeIndex: 6837 entries, 0 to 6836\n",
            "Data columns (total 4 columns):\n",
            " #   Column      Non-Null Count  Dtype \n",
            "---  ------      --------------  ----- \n",
            " 0   id          6837 non-null   int64 \n",
            " 1   text        6837 non-null   object\n",
            " 2   hs          6837 non-null   int64 \n",
            " 3   stereotype  6837 non-null   int64 \n",
            "dtypes: int64(3), object(1)\n",
            "memory usage: 213.8+ KB\n",
            "None\n"
          ]
        }
      ]
    },
    {
      "cell_type": "code",
      "source": [
        "data = data.rename(columns={'text ': 'text'})"
      ],
      "metadata": {
        "id": "Q1xq5sA0U7wD"
      },
      "execution_count": 30,
      "outputs": []
    },
    {
      "cell_type": "code",
      "source": [
        "# Tokenize the 'text' column\n",
        "data['tokens'] = data['text'].apply(word_tokenize)\n",
        "data.head()"
      ],
      "metadata": {
        "colab": {
          "base_uri": "https://localhost:8080/",
          "height": 206
        },
        "id": "C8Y-d-PuN_Jo",
        "outputId": "d249abe0-0b0f-46ac-dacd-7b17d79ffc1a"
      },
      "execution_count": 12,
      "outputs": [
        {
          "output_type": "execute_result",
          "data": {
            "text/plain": [
              "     id                                               text  hs  stereotype  \\\n",
              "0  2066  È terrorismo anche questo, per mettere in uno ...   0           0   \n",
              "1  2045  @user @user infatti finché ci hanno guadagnato...   0           0   \n",
              "2    61  Corriere: Tangenti, Mafia Capitale dimenticata...   0           0   \n",
              "3  1259  @user ad uno ad uno, perché quando i migranti ...   0           0   \n",
              "4   949  Il divertimento del giorno? Trovare i patrioti...   0           0   \n",
              "\n",
              "                                              tokens  \n",
              "0  [È, terrorismo, anche, questo, ,, per, mettere...  \n",
              "1  [@, user, @, user, infatti, finché, ci, hanno,...  \n",
              "2  [Corriere, :, Tangenti, ,, Mafia, Capitale, di...  \n",
              "3  [@, user, ad, uno, ad, uno, ,, perché, quando,...  \n",
              "4  [Il, divertimento, del, giorno, ?, Trovare, i,...  "
            ],
            "text/html": [
              "\n",
              "  <div id=\"df-037bf7ce-2a39-49ce-96d3-ca162b2e536d\" class=\"colab-df-container\">\n",
              "    <div>\n",
              "<style scoped>\n",
              "    .dataframe tbody tr th:only-of-type {\n",
              "        vertical-align: middle;\n",
              "    }\n",
              "\n",
              "    .dataframe tbody tr th {\n",
              "        vertical-align: top;\n",
              "    }\n",
              "\n",
              "    .dataframe thead th {\n",
              "        text-align: right;\n",
              "    }\n",
              "</style>\n",
              "<table border=\"1\" class=\"dataframe\">\n",
              "  <thead>\n",
              "    <tr style=\"text-align: right;\">\n",
              "      <th></th>\n",
              "      <th>id</th>\n",
              "      <th>text</th>\n",
              "      <th>hs</th>\n",
              "      <th>stereotype</th>\n",
              "      <th>tokens</th>\n",
              "    </tr>\n",
              "  </thead>\n",
              "  <tbody>\n",
              "    <tr>\n",
              "      <th>0</th>\n",
              "      <td>2066</td>\n",
              "      <td>È terrorismo anche questo, per mettere in uno ...</td>\n",
              "      <td>0</td>\n",
              "      <td>0</td>\n",
              "      <td>[È, terrorismo, anche, questo, ,, per, mettere...</td>\n",
              "    </tr>\n",
              "    <tr>\n",
              "      <th>1</th>\n",
              "      <td>2045</td>\n",
              "      <td>@user @user infatti finché ci hanno guadagnato...</td>\n",
              "      <td>0</td>\n",
              "      <td>0</td>\n",
              "      <td>[@, user, @, user, infatti, finché, ci, hanno,...</td>\n",
              "    </tr>\n",
              "    <tr>\n",
              "      <th>2</th>\n",
              "      <td>61</td>\n",
              "      <td>Corriere: Tangenti, Mafia Capitale dimenticata...</td>\n",
              "      <td>0</td>\n",
              "      <td>0</td>\n",
              "      <td>[Corriere, :, Tangenti, ,, Mafia, Capitale, di...</td>\n",
              "    </tr>\n",
              "    <tr>\n",
              "      <th>3</th>\n",
              "      <td>1259</td>\n",
              "      <td>@user ad uno ad uno, perché quando i migranti ...</td>\n",
              "      <td>0</td>\n",
              "      <td>0</td>\n",
              "      <td>[@, user, ad, uno, ad, uno, ,, perché, quando,...</td>\n",
              "    </tr>\n",
              "    <tr>\n",
              "      <th>4</th>\n",
              "      <td>949</td>\n",
              "      <td>Il divertimento del giorno? Trovare i patrioti...</td>\n",
              "      <td>0</td>\n",
              "      <td>0</td>\n",
              "      <td>[Il, divertimento, del, giorno, ?, Trovare, i,...</td>\n",
              "    </tr>\n",
              "  </tbody>\n",
              "</table>\n",
              "</div>\n",
              "    <div class=\"colab-df-buttons\">\n",
              "\n",
              "  <div class=\"colab-df-container\">\n",
              "    <button class=\"colab-df-convert\" onclick=\"convertToInteractive('df-037bf7ce-2a39-49ce-96d3-ca162b2e536d')\"\n",
              "            title=\"Convert this dataframe to an interactive table.\"\n",
              "            style=\"display:none;\">\n",
              "\n",
              "  <svg xmlns=\"http://www.w3.org/2000/svg\" height=\"24px\" viewBox=\"0 -960 960 960\">\n",
              "    <path d=\"M120-120v-720h720v720H120Zm60-500h600v-160H180v160Zm220 220h160v-160H400v160Zm0 220h160v-160H400v160ZM180-400h160v-160H180v160Zm440 0h160v-160H620v160ZM180-180h160v-160H180v160Zm440 0h160v-160H620v160Z\"/>\n",
              "  </svg>\n",
              "    </button>\n",
              "\n",
              "  <style>\n",
              "    .colab-df-container {\n",
              "      display:flex;\n",
              "      gap: 12px;\n",
              "    }\n",
              "\n",
              "    .colab-df-convert {\n",
              "      background-color: #E8F0FE;\n",
              "      border: none;\n",
              "      border-radius: 50%;\n",
              "      cursor: pointer;\n",
              "      display: none;\n",
              "      fill: #1967D2;\n",
              "      height: 32px;\n",
              "      padding: 0 0 0 0;\n",
              "      width: 32px;\n",
              "    }\n",
              "\n",
              "    .colab-df-convert:hover {\n",
              "      background-color: #E2EBFA;\n",
              "      box-shadow: 0px 1px 2px rgba(60, 64, 67, 0.3), 0px 1px 3px 1px rgba(60, 64, 67, 0.15);\n",
              "      fill: #174EA6;\n",
              "    }\n",
              "\n",
              "    .colab-df-buttons div {\n",
              "      margin-bottom: 4px;\n",
              "    }\n",
              "\n",
              "    [theme=dark] .colab-df-convert {\n",
              "      background-color: #3B4455;\n",
              "      fill: #D2E3FC;\n",
              "    }\n",
              "\n",
              "    [theme=dark] .colab-df-convert:hover {\n",
              "      background-color: #434B5C;\n",
              "      box-shadow: 0px 1px 3px 1px rgba(0, 0, 0, 0.15);\n",
              "      filter: drop-shadow(0px 1px 2px rgba(0, 0, 0, 0.3));\n",
              "      fill: #FFFFFF;\n",
              "    }\n",
              "  </style>\n",
              "\n",
              "    <script>\n",
              "      const buttonEl =\n",
              "        document.querySelector('#df-037bf7ce-2a39-49ce-96d3-ca162b2e536d button.colab-df-convert');\n",
              "      buttonEl.style.display =\n",
              "        google.colab.kernel.accessAllowed ? 'block' : 'none';\n",
              "\n",
              "      async function convertToInteractive(key) {\n",
              "        const element = document.querySelector('#df-037bf7ce-2a39-49ce-96d3-ca162b2e536d');\n",
              "        const dataTable =\n",
              "          await google.colab.kernel.invokeFunction('convertToInteractive',\n",
              "                                                    [key], {});\n",
              "        if (!dataTable) return;\n",
              "\n",
              "        const docLinkHtml = 'Like what you see? Visit the ' +\n",
              "          '<a target=\"_blank\" href=https://colab.research.google.com/notebooks/data_table.ipynb>data table notebook</a>'\n",
              "          + ' to learn more about interactive tables.';\n",
              "        element.innerHTML = '';\n",
              "        dataTable['output_type'] = 'display_data';\n",
              "        await google.colab.output.renderOutput(dataTable, element);\n",
              "        const docLink = document.createElement('div');\n",
              "        docLink.innerHTML = docLinkHtml;\n",
              "        element.appendChild(docLink);\n",
              "      }\n",
              "    </script>\n",
              "  </div>\n",
              "\n",
              "\n",
              "    <div id=\"df-bfcb054c-ab96-4eef-b662-7e8d73578375\">\n",
              "      <button class=\"colab-df-quickchart\" onclick=\"quickchart('df-bfcb054c-ab96-4eef-b662-7e8d73578375')\"\n",
              "                title=\"Suggest charts\"\n",
              "                style=\"display:none;\">\n",
              "\n",
              "<svg xmlns=\"http://www.w3.org/2000/svg\" height=\"24px\"viewBox=\"0 0 24 24\"\n",
              "     width=\"24px\">\n",
              "    <g>\n",
              "        <path d=\"M19 3H5c-1.1 0-2 .9-2 2v14c0 1.1.9 2 2 2h14c1.1 0 2-.9 2-2V5c0-1.1-.9-2-2-2zM9 17H7v-7h2v7zm4 0h-2V7h2v10zm4 0h-2v-4h2v4z\"/>\n",
              "    </g>\n",
              "</svg>\n",
              "      </button>\n",
              "\n",
              "<style>\n",
              "  .colab-df-quickchart {\n",
              "      --bg-color: #E8F0FE;\n",
              "      --fill-color: #1967D2;\n",
              "      --hover-bg-color: #E2EBFA;\n",
              "      --hover-fill-color: #174EA6;\n",
              "      --disabled-fill-color: #AAA;\n",
              "      --disabled-bg-color: #DDD;\n",
              "  }\n",
              "\n",
              "  [theme=dark] .colab-df-quickchart {\n",
              "      --bg-color: #3B4455;\n",
              "      --fill-color: #D2E3FC;\n",
              "      --hover-bg-color: #434B5C;\n",
              "      --hover-fill-color: #FFFFFF;\n",
              "      --disabled-bg-color: #3B4455;\n",
              "      --disabled-fill-color: #666;\n",
              "  }\n",
              "\n",
              "  .colab-df-quickchart {\n",
              "    background-color: var(--bg-color);\n",
              "    border: none;\n",
              "    border-radius: 50%;\n",
              "    cursor: pointer;\n",
              "    display: none;\n",
              "    fill: var(--fill-color);\n",
              "    height: 32px;\n",
              "    padding: 0;\n",
              "    width: 32px;\n",
              "  }\n",
              "\n",
              "  .colab-df-quickchart:hover {\n",
              "    background-color: var(--hover-bg-color);\n",
              "    box-shadow: 0 1px 2px rgba(60, 64, 67, 0.3), 0 1px 3px 1px rgba(60, 64, 67, 0.15);\n",
              "    fill: var(--button-hover-fill-color);\n",
              "  }\n",
              "\n",
              "  .colab-df-quickchart-complete:disabled,\n",
              "  .colab-df-quickchart-complete:disabled:hover {\n",
              "    background-color: var(--disabled-bg-color);\n",
              "    fill: var(--disabled-fill-color);\n",
              "    box-shadow: none;\n",
              "  }\n",
              "\n",
              "  .colab-df-spinner {\n",
              "    border: 2px solid var(--fill-color);\n",
              "    border-color: transparent;\n",
              "    border-bottom-color: var(--fill-color);\n",
              "    animation:\n",
              "      spin 1s steps(1) infinite;\n",
              "  }\n",
              "\n",
              "  @keyframes spin {\n",
              "    0% {\n",
              "      border-color: transparent;\n",
              "      border-bottom-color: var(--fill-color);\n",
              "      border-left-color: var(--fill-color);\n",
              "    }\n",
              "    20% {\n",
              "      border-color: transparent;\n",
              "      border-left-color: var(--fill-color);\n",
              "      border-top-color: var(--fill-color);\n",
              "    }\n",
              "    30% {\n",
              "      border-color: transparent;\n",
              "      border-left-color: var(--fill-color);\n",
              "      border-top-color: var(--fill-color);\n",
              "      border-right-color: var(--fill-color);\n",
              "    }\n",
              "    40% {\n",
              "      border-color: transparent;\n",
              "      border-right-color: var(--fill-color);\n",
              "      border-top-color: var(--fill-color);\n",
              "    }\n",
              "    60% {\n",
              "      border-color: transparent;\n",
              "      border-right-color: var(--fill-color);\n",
              "    }\n",
              "    80% {\n",
              "      border-color: transparent;\n",
              "      border-right-color: var(--fill-color);\n",
              "      border-bottom-color: var(--fill-color);\n",
              "    }\n",
              "    90% {\n",
              "      border-color: transparent;\n",
              "      border-bottom-color: var(--fill-color);\n",
              "    }\n",
              "  }\n",
              "</style>\n",
              "\n",
              "      <script>\n",
              "        async function quickchart(key) {\n",
              "          const quickchartButtonEl =\n",
              "            document.querySelector('#' + key + ' button');\n",
              "          quickchartButtonEl.disabled = true;  // To prevent multiple clicks.\n",
              "          quickchartButtonEl.classList.add('colab-df-spinner');\n",
              "          try {\n",
              "            const charts = await google.colab.kernel.invokeFunction(\n",
              "                'suggestCharts', [key], {});\n",
              "          } catch (error) {\n",
              "            console.error('Error during call to suggestCharts:', error);\n",
              "          }\n",
              "          quickchartButtonEl.classList.remove('colab-df-spinner');\n",
              "          quickchartButtonEl.classList.add('colab-df-quickchart-complete');\n",
              "        }\n",
              "        (() => {\n",
              "          let quickchartButtonEl =\n",
              "            document.querySelector('#df-bfcb054c-ab96-4eef-b662-7e8d73578375 button');\n",
              "          quickchartButtonEl.style.display =\n",
              "            google.colab.kernel.accessAllowed ? 'block' : 'none';\n",
              "        })();\n",
              "      </script>\n",
              "    </div>\n",
              "\n",
              "    </div>\n",
              "  </div>\n"
            ],
            "application/vnd.google.colaboratory.intrinsic+json": {
              "type": "dataframe",
              "variable_name": "data",
              "summary": "{\n  \"name\": \"data\",\n  \"rows\": 6837,\n  \"fields\": [\n    {\n      \"column\": \"id\",\n      \"properties\": {\n        \"dtype\": \"number\",\n        \"std\": 3312,\n        \"min\": 1,\n        \"max\": 9779,\n        \"num_unique_values\": 6837,\n        \"samples\": [\n          6503,\n          250,\n          2535\n        ],\n        \"semantic_type\": \"\",\n        \"description\": \"\"\n      }\n    },\n    {\n      \"column\": \"text\",\n      \"properties\": {\n        \"dtype\": \"string\",\n        \"num_unique_values\": 6800,\n        \"samples\": [\n          \"Tutti in Italia. A Salisburgo Conte si piega alla proposta Merkel-Juncker: chi non accoglie i migranti, paga (dall'inviata A. Mauro) URL \",\n          \"Domandiamoci come sia possibile che nessuna legge venga applicata,l'Italia oramai \\u00e8 terra di Nessuno chiunque anche gli stranieri Delinquono \",\n          \"Architettura tessile come risposta alla temporaneit\\u00e0 degli alloggi per immigrati URL URL \"\n        ],\n        \"semantic_type\": \"\",\n        \"description\": \"\"\n      }\n    },\n    {\n      \"column\": \"hs\",\n      \"properties\": {\n        \"dtype\": \"number\",\n        \"std\": 0,\n        \"min\": 0,\n        \"max\": 1,\n        \"num_unique_values\": 2,\n        \"samples\": [\n          1,\n          0\n        ],\n        \"semantic_type\": \"\",\n        \"description\": \"\"\n      }\n    },\n    {\n      \"column\": \"stereotype\",\n      \"properties\": {\n        \"dtype\": \"number\",\n        \"std\": 0,\n        \"min\": 0,\n        \"max\": 1,\n        \"num_unique_values\": 2,\n        \"samples\": [\n          1,\n          0\n        ],\n        \"semantic_type\": \"\",\n        \"description\": \"\"\n      }\n    },\n    {\n      \"column\": \"tokens\",\n      \"properties\": {\n        \"dtype\": \"object\",\n        \"semantic_type\": \"\",\n        \"description\": \"\"\n      }\n    }\n  ]\n}"
            }
          },
          "metadata": {},
          "execution_count": 12
        }
      ]
    },
    {
      "cell_type": "markdown",
      "source": [
        "Count of unique tokens"
      ],
      "metadata": {
        "id": "4DVRX524Q0BO"
      }
    },
    {
      "cell_type": "code",
      "source": [
        "# Combine all tokens into a single list\n",
        "all_tokens = [token for sublist in data['tokens'] for token in sublist]\n",
        "freq_dist = FreqDist(all_tokens)\n",
        "\n",
        "print(f'Count of unique tokens: {len(all_tokens)}\\n')\n",
        "print(\"Ten Most Common Tokens:\")\n",
        "freq_dist.most_common(10)"
      ],
      "metadata": {
        "colab": {
          "base_uri": "https://localhost:8080/"
        },
        "id": "DooM2ED4R2S_",
        "outputId": "50c570db-e876-4bd6-f0bb-55599cea26ee"
      },
      "execution_count": 13,
      "outputs": [
        {
          "output_type": "stream",
          "name": "stdout",
          "text": [
            "Count of unique tokens: 194373\n",
            "\n",
            "Ten Most Common Tokens:\n"
          ]
        },
        {
          "output_type": "execute_result",
          "data": {
            "text/plain": [
              "[(',', 5992),\n",
              " ('#', 5018),\n",
              " ('@', 4727),\n",
              " ('user', 4712),\n",
              " ('.', 4473),\n",
              " ('di', 3949),\n",
              " ('e', 3848),\n",
              " ('URL', 3515),\n",
              " ('che', 2807),\n",
              " ('a', 2554)]"
            ]
          },
          "metadata": {},
          "execution_count": 13
        }
      ]
    },
    {
      "cell_type": "code",
      "source": [
        "# Load stopwords and punctuation\n",
        "stop_words = set(stopwords.words('italian'))\n",
        "punctuation = set(string.punctuation)\n",
        "punctuation.add('``')\n",
        "punctuation.add('\\'\\'')\n",
        "punctuation.add('...')\n",
        "punctuation.add('’')\n",
        "\n",
        "# Filter out stopwords and punctuation and convert filtered tokens to lower case\n",
        "filtered_tokens = [token.lower() for token in all_tokens if token.lower() not in stop_words and token not in punctuation]\n",
        "freq_dist_updated = FreqDist(filtered_tokens)\n",
        "\n",
        "print(f'Count of unique filtered tokens: {len(filtered_tokens)}\\n')\n",
        "print(\"Ten Most Common Filtered Tokens:\")\n",
        "freq_dist_updated.most_common(10)"
      ],
      "metadata": {
        "colab": {
          "base_uri": "https://localhost:8080/"
        },
        "id": "ZfCeU3y1UZev",
        "outputId": "28d905d5-d970-4b8f-efd1-047a55eac760"
      },
      "execution_count": 14,
      "outputs": [
        {
          "output_type": "stream",
          "name": "stdout",
          "text": [
            "Count of unique filtered tokens: 100552\n",
            "\n",
            "Ten Most Common Filtered Tokens:\n"
          ]
        },
        {
          "output_type": "execute_result",
          "data": {
            "text/plain": [
              "[('user', 4712),\n",
              " ('url', 3515),\n",
              " ('rom', 1558),\n",
              " ('migranti', 1293),\n",
              " ('immigrati', 980),\n",
              " ('italia', 726),\n",
              " ('roma', 617),\n",
              " ('italiani', 599),\n",
              " ('stranieri', 454),\n",
              " ('solo', 415)]"
            ]
          },
          "metadata": {},
          "execution_count": 14
        }
      ]
    },
    {
      "cell_type": "markdown",
      "source": [
        "Frequency Distribution"
      ],
      "metadata": {
        "id": "aniysSfKQ5DJ"
      }
    },
    {
      "cell_type": "code",
      "source": [
        "fig, axes = plt.subplots(1, 2, figsize=(12, 6))\n",
        "axes[0].bar(*zip(*freq_dist.most_common(10)))\n",
        "axes[0].set_title('Original Token Frequency Distribution')\n",
        "axes[0].set_xlabel('Tokens')\n",
        "axes[0].set_ylabel('Frequency')\n",
        "axes[0].set_xticklabels([token for token, _ in freq_dist.most_common(10)], rotation=45)\n",
        "\n",
        "axes[1].bar(*zip(*freq_dist_updated.most_common(10)))\n",
        "axes[1].set_title('Filtered Token Frequency Distribution')\n",
        "axes[1].set_xlabel('Tokens')\n",
        "axes[1].set_ylabel('Frequency')\n",
        "axes[1].set_xticklabels([token for token, _ in freq_dist_updated.most_common(10)], rotation=45)"
      ],
      "metadata": {
        "colab": {
          "base_uri": "https://localhost:8080/",
          "height": 782
        },
        "id": "JDrNgVKJSRRn",
        "outputId": "71f74e5e-44e5-4370-f528-c2ac13e25ac5"
      },
      "execution_count": 15,
      "outputs": [
        {
          "output_type": "execute_result",
          "data": {
            "text/plain": [
              "[Text(0, 0, 'user'),\n",
              " Text(1, 0, 'url'),\n",
              " Text(2, 0, 'rom'),\n",
              " Text(3, 0, 'migranti'),\n",
              " Text(4, 0, 'immigrati'),\n",
              " Text(5, 0, 'italia'),\n",
              " Text(6, 0, 'roma'),\n",
              " Text(7, 0, 'italiani'),\n",
              " Text(8, 0, 'stranieri'),\n",
              " Text(9, 0, 'solo')]"
            ]
          },
          "metadata": {},
          "execution_count": 15
        },
        {
          "output_type": "display_data",
          "data": {
            "text/plain": [
              "<Figure size 1200x600 with 2 Axes>"
            ],
            "image/png": "[encoded data removed]"
          },
          "metadata": {}
        }
      ]
    },
    {
      "cell_type": "code",
      "source": [
        "# Extract bigrams and trigrams from the filtered tokens\n",
        "bigrams = list(ngrams(filtered_tokens, 2))\n",
        "trigrams = list(ngrams(filtered_tokens, 3))\n",
        "\n",
        "# Create a frequency distributions of the bigrams and trigrams\n",
        "bigram_freq_dist = FreqDist(bigrams)\n",
        "trigram_freq_dist = FreqDist(trigrams)\n",
        "\n",
        "print(\"Ten Most Common Bigrams:\")\n",
        "bigram_freq_dist.most_common(10)"
      ],
      "metadata": {
        "colab": {
          "base_uri": "https://localhost:8080/"
        },
        "id": "4aawhLpQbPAU",
        "outputId": "9817327e-8045-41ba-e7d4-82d92c31d521"
      },
      "execution_count": 16,
      "outputs": [
        {
          "output_type": "stream",
          "name": "stdout",
          "text": [
            "Ten Most Common Bigrams:\n"
          ]
        },
        {
          "output_type": "execute_result",
          "data": {
            "text/plain": [
              "[(('user', 'user'), 2073),\n",
              " (('url', 'user'), 791),\n",
              " (('url', 'url'), 242),\n",
              " (('campo', 'rom'), 189),\n",
              " (('url', 'roma'), 171),\n",
              " (('campi', 'rom'), 148),\n",
              " (('via', 'user'), 124),\n",
              " (('url', 'via'), 121),\n",
              " (('user', 'url'), 103),\n",
              " (('rom', 'url'), 98)]"
            ]
          },
          "metadata": {},
          "execution_count": 16
        }
      ]
    },
    {
      "cell_type": "code",
      "source": [
        "print(\"Ten Most Common Trigrams:\")\n",
        "trigram_freq_dist.most_common(10)"
      ],
      "metadata": {
        "colab": {
          "base_uri": "https://localhost:8080/"
        },
        "id": "ftxAM-KAbt0V",
        "outputId": "7267f051-cd27-40b1-ca2e-150712e137eb"
      },
      "execution_count": 17,
      "outputs": [
        {
          "output_type": "stream",
          "name": "stdout",
          "text": [
            "Ten Most Common Trigrams:\n"
          ]
        },
        {
          "output_type": "execute_result",
          "data": {
            "text/plain": [
              "[(('user', 'user', 'user'), 1059),\n",
              " (('url', 'user', 'user'), 338),\n",
              " (('url', 'via', 'user'), 109),\n",
              " (('url', 'url', 'user'), 59),\n",
              " (('via', 'user', 'user'), 35),\n",
              " (('user', 'user', 'url'), 34),\n",
              " (('user', 'url', 'user'), 29),\n",
              " (('studentessa', 'cinese', 'morta'), 25),\n",
              " (('cinese', 'morta', 'roma'), 20),\n",
              " (('--', '--', '--'), 20)]"
            ]
          },
          "metadata": {},
          "execution_count": 17
        }
      ]
    },
    {
      "cell_type": "code",
      "source": [
        "data.drop(columns=['tokens'], inplace=True)"
      ],
      "metadata": {
        "id": "FeWol04AKboD"
      },
      "execution_count": 18,
      "outputs": []
    },
    {
      "cell_type": "code",
      "source": [
        "X = data['text']\n",
        "y = data['hs']\n",
        "\n",
        "# Split the data\n",
        "X_train, X_test, y_train, y_test = train_test_split(X, y, test_size=0.2, random_state=42)"
      ],
      "metadata": {
        "id": "K7yzb0fv1A72"
      },
      "execution_count": 19,
      "outputs": []
    },
    {
      "cell_type": "code",
      "source": [
        "stop_words = list(stop_words)\n",
        "\n",
        "pipeline_lr = Pipeline([\n",
        "    ('emoji_remover', EmojiRemover()),\n",
        "    ('tfidf', CountVectorizer(\n",
        "        lowercase=True,\n",
        "        stop_words=stop_words,\n",
        "        token_pattern=r'\\b[a-zA-Z]+\\b',  # Only select alphabetic words\n",
        "        binary=True,  # Replaces non-zero frequency with 1\n",
        "        max_features=10000\n",
        "    )),\n",
        "    ('classifier', LogisticRegression())\n",
        "])\n",
        "\n",
        "pipeline_nb = Pipeline([\n",
        "    ('emoji_remover', EmojiRemover()),\n",
        "    ('tfidf', CountVectorizer(\n",
        "        lowercase=True,\n",
        "        stop_words=stop_words,\n",
        "        token_pattern=r'\\b[a-zA-Z]+\\b',\n",
        "        binary=True,\n",
        "        max_features=10000\n",
        "    )),\n",
        "    ('classifier', MultinomialNB())\n",
        "])\n",
        "\n",
        "pipeline_lr_wb = Pipeline([\n",
        "    ('emoji_remover', EmojiRemover()),\n",
        "    ('tfidf', CountVectorizer(\n",
        "        lowercase=True,\n",
        "        stop_words=stop_words,\n",
        "        token_pattern=r'\\b[a-zA-Z]+\\b',\n",
        "        binary=True,\n",
        "        max_features=10000\n",
        "    )),\n",
        "    ('classifier', LogisticRegression(class_weight='balanced'))\n",
        "])\n",
        "\n",
        "\n",
        "class_priors = [len(y_train[y_train == 0]) / len(y_train),\n",
        "                len(y_train[y_train == 1]) / len(y_train)]\n",
        "\n",
        "pipeline_nb_cp = Pipeline([\n",
        "    ('emoji_remover', EmojiRemover()),\n",
        "    ('tfidf', CountVectorizer(\n",
        "        lowercase=True,\n",
        "        stop_words=stop_words,\n",
        "        token_pattern=r'\\b[a-zA-Z]+\\b',\n",
        "        binary=True,\n",
        "        max_features=10000\n",
        "    )),\n",
        "    ('classifier', MultinomialNB(class_prior=class_priors))\n",
        "])"
      ],
      "metadata": {
        "id": "jRnyeATB1UfG"
      },
      "execution_count": 20,
      "outputs": []
    },
    {
      "cell_type": "code",
      "source": [
        "fit_and_evaluate_model(pipeline_lr, X_train, y_train, X_test, y_test, 'Logistic Regression')"
      ],
      "metadata": {
        "colab": {
          "base_uri": "https://localhost:8080/"
        },
        "id": "iQ5TI6gOvx5Q",
        "outputId": "130de329-d57c-44f4-f2c2-9e0fe85ecfbf"
      },
      "execution_count": 21,
      "outputs": [
        {
          "output_type": "stream",
          "name": "stdout",
          "text": [
            "Logistic Regression Classification Report:\n",
            "              precision    recall  f1-score   support\n",
            "\n",
            "          No       0.79      0.82      0.80       818\n",
            "         Yes       0.71      0.67      0.69       550\n",
            "\n",
            "    accuracy                           0.76      1368\n",
            "   macro avg       0.75      0.74      0.75      1368\n",
            "weighted avg       0.76      0.76      0.76      1368\n",
            "\n",
            "Logistic Regression Overall Accuracy: 0.76\n",
            "\n"
          ]
        }
      ]
    },
    {
      "cell_type": "code",
      "source": [
        "fit_and_evaluate_model(pipeline_nb, X_train, y_train, X_test, y_test, 'Naive Bayes')"
      ],
      "metadata": {
        "colab": {
          "base_uri": "https://localhost:8080/"
        },
        "id": "xLKCTPYZwILk",
        "outputId": "6be2e3d9-fc30-497c-aaae-693091dd6f59"
      },
      "execution_count": 22,
      "outputs": [
        {
          "output_type": "stream",
          "name": "stdout",
          "text": [
            "Naive Bayes Classification Report:\n",
            "              precision    recall  f1-score   support\n",
            "\n",
            "          No       0.82      0.74      0.78       818\n",
            "         Yes       0.67      0.76      0.71       550\n",
            "\n",
            "    accuracy                           0.75      1368\n",
            "   macro avg       0.74      0.75      0.74      1368\n",
            "weighted avg       0.76      0.75      0.75      1368\n",
            "\n",
            "Naive Bayes Overall Accuracy: 0.75\n",
            "\n"
          ]
        }
      ]
    },
    {
      "cell_type": "code",
      "source": [
        "fit_and_evaluate_model(pipeline_lr_wb, X_train, y_train, X_test, y_test, 'Logistic Regression with Weighted Balance')"
      ],
      "metadata": {
        "colab": {
          "base_uri": "https://localhost:8080/"
        },
        "id": "4KxGeoinwMj6",
        "outputId": "0eec3c8e-92a2-4a97-d70e-bc47b2d308ba"
      },
      "execution_count": 23,
      "outputs": [
        {
          "output_type": "stream",
          "name": "stdout",
          "text": [
            "Logistic Regression with Weighted Balance Classification Report:\n",
            "              precision    recall  f1-score   support\n",
            "\n",
            "          No       0.80      0.78      0.79       818\n",
            "         Yes       0.69      0.71      0.70       550\n",
            "\n",
            "    accuracy                           0.75      1368\n",
            "   macro avg       0.74      0.74      0.74      1368\n",
            "weighted avg       0.75      0.75      0.75      1368\n",
            "\n",
            "Logistic Regression with Weighted Balance Overall Accuracy: 0.75\n",
            "\n"
          ]
        }
      ]
    },
    {
      "cell_type": "code",
      "source": [
        "fit_and_evaluate_model(pipeline_nb_cp, X_train, y_train, X_test, y_test, 'Naive Bayes with Class Priors')"
      ],
      "metadata": {
        "colab": {
          "base_uri": "https://localhost:8080/"
        },
        "id": "xDnSfVxOwQVN",
        "outputId": "41a5fd7d-28d0-4fe4-f6da-403d0ae0748a"
      },
      "execution_count": 24,
      "outputs": [
        {
          "output_type": "stream",
          "name": "stdout",
          "text": [
            "Naive Bayes with Class Priors Classification Report:\n",
            "              precision    recall  f1-score   support\n",
            "\n",
            "          No       0.82      0.74      0.78       818\n",
            "         Yes       0.67      0.76      0.71       550\n",
            "\n",
            "    accuracy                           0.75      1368\n",
            "   macro avg       0.74      0.75      0.74      1368\n",
            "weighted avg       0.76      0.75      0.75      1368\n",
            "\n",
            "Naive Bayes with Class Priors Overall Accuracy: 0.75\n",
            "\n"
          ]
        }
      ]
    },
    {
      "cell_type": "code",
      "source": [
        "fit_and_evaluate_model(pipeline_lr, X_train, y_train, X_test, y_test, 'Logistic Regression')"
      ],
      "metadata": {
        "colab": {
          "base_uri": "https://localhost:8080/"
        },
        "id": "Tg4xAXKDKdRY",
        "outputId": "8dfa189c-0bfe-42dc-e4fe-02c066d6370a"
      },
      "execution_count": 26,
      "outputs": [
        {
          "output_type": "stream",
          "name": "stdout",
          "text": [
            "Logistic Regression Classification Report:\n",
            "              precision    recall  f1-score   support\n",
            "\n",
            "          No       0.60      0.96      0.74       818\n",
            "         Yes       0.51      0.07      0.12       550\n",
            "\n",
            "    accuracy                           0.60      1368\n",
            "   macro avg       0.56      0.51      0.43      1368\n",
            "weighted avg       0.57      0.60      0.49      1368\n",
            "\n",
            "Logistic Regression Overall Accuracy: 0.60\n",
            "\n"
          ]
        }
      ]
    },
    {
      "cell_type": "code",
      "source": [
        "fit_and_evaluate_model(pipeline_nb, X_train, y_train, X_test, y_test, 'Naive Bayes')"
      ],
      "metadata": {
        "colab": {
          "base_uri": "https://localhost:8080/"
        },
        "id": "WlYjIm0EKh5b",
        "outputId": "664f7800-bbd1-4fa3-ad95-15760a46718a"
      },
      "execution_count": 27,
      "outputs": [
        {
          "output_type": "stream",
          "name": "stdout",
          "text": [
            "Naive Bayes Classification Report:\n",
            "              precision    recall  f1-score   support\n",
            "\n",
            "          No       0.66      0.52      0.58       818\n",
            "         Yes       0.46      0.60      0.52       550\n",
            "\n",
            "    accuracy                           0.55      1368\n",
            "   macro avg       0.56      0.56      0.55      1368\n",
            "weighted avg       0.58      0.55      0.56      1368\n",
            "\n",
            "Naive Bayes Overall Accuracy: 0.55\n",
            "\n"
          ]
        }
      ]
    }
  ]
}